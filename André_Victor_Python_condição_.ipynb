{
  "nbformat": 4,
  "nbformat_minor": 0,
  "metadata": {
    "colab": {
      "name": "André Victor_Python condição .ipynb",
      "provenance": [],
      "authorship_tag": "ABX9TyOwosSz2dMDVAE6eesfGKwS",
      "include_colab_link": true
    },
    "kernelspec": {
      "name": "python3",
      "display_name": "Python 3"
    },
    "language_info": {
      "name": "python"
    }
  },
  "cells": [
    {
      "cell_type": "markdown",
      "metadata": {
        "id": "view-in-github",
        "colab_type": "text"
      },
      "source": [
        "<a href=\"https://colab.research.google.com/github/andrevictorm/ESTUDO/blob/main/Andr%C3%A9_Victor_Python_condi%C3%A7%C3%A3o_.ipynb\" target=\"_parent\"><img src=\"https://colab.research.google.com/assets/colab-badge.svg\" alt=\"Open In Colab\"/></a>"
      ]
    },
    {
      "cell_type": "code",
      "metadata": {
        "id": "EHYQ0JIgUsxb"
      },
      "source": [
        "1) Escreva um programa que leia as medidas dos lados de um triângulo e\n",
        "escreva se ele é Equilátero, Isósceles ou Escaleno. Sendo que:\n",
        "− Triângulo Equilátero: possui os 3 lados iguais.\n",
        "− Triângulo Isóscele: possui 2 lados iguais.\n",
        "− Triângulo Escaleno: possui 3 lados diferentes"
      ],
      "execution_count": null,
      "outputs": []
    },
    {
      "cell_type": "code",
      "metadata": {
        "colab": {
          "base_uri": "https://localhost:8080/"
        },
        "id": "rjPH0LnAVl8t",
        "outputId": "6ff8f07b-3fe1-484d-ffab-b40855d44489"
      },
      "source": [
        "n1=int(input(\"1º lado do triangulo: \"))\n",
        "n2=int(input(\"2º lado do triangulo: \"))\n",
        "n3=int(input(\"3º lado do triangulo: \"))\n",
        "\n",
        "if n1 == n2 == n3 :\n",
        " print(\"Equilátero\")\n",
        "elif n1 != n2 != n3 !=n1 :\n",
        " print(\"Escaleno\")\n",
        "else:\n",
        " print(\"Isóscele\")"
      ],
      "execution_count": null,
      "outputs": [
        {
          "output_type": "stream",
          "name": "stdout",
          "text": [
            "1º lado do triangulo: 4\n",
            "2º lado do triangulo: 4\n",
            "3º lado do triangulo: 3\n",
            "Isóscele\n"
          ]
        }
      ]
    },
    {
      "cell_type": "code",
      "metadata": {
        "id": "uiS5AWXFYSAN"
      },
      "source": [
        "2) Desenvolva um algoritmo em Python para determinar o \n",
        "Índice de Massa Corporal (IMC) de uma pessoa. \n",
        "IMC = Peso ÷ (Altura × Altura)\n",
        "\n",
        "Para fazer o cálculo do IMC basta dividir seu peso em quilogramas  \n",
        "(Kg) pela altura ao quadrado (em metros).\n",
        "\n",
        "O número que será gerado deve ser comparado aos valores da tabela IMC, \n",
        "dada abaixo, para definir se você está abaixo, \n",
        "em seu peso ideal ou acima do peso.\n",
        "\n",
        "< 16 - Magreza Grave\n",
        "16 a < 17 - Magreza Moderada\n",
        "17 a < 18,5 - Magreza Leve\n",
        "18,5 a < 25 - Saudável\n",
        "25 a < 30 - Sobrepeso\n",
        "30 a < 35 - Obesidade Grau I\n",
        "35 a < 40 - Obesidade Grau II(Severa)\n",
        ">= 40 - Obesidade Grau III(Mórbida)"
      ],
      "execution_count": null,
      "outputs": []
    },
    {
      "cell_type": "code",
      "metadata": {
        "colab": {
          "base_uri": "https://localhost:8080/"
        },
        "id": "oYVdVvlRYdoT",
        "outputId": "c705de81-54df-44c0-b3fd-88fedf333ff3"
      },
      "source": [
        "a=float(input(\"Digite altura: \"))\n",
        "p=int(input(\"Digite o peso: \"))\n",
        "imc=(p/(a*a)*10000)\n",
        "print(\"Seu IMC é de: \",imc)\n",
        "if imc < 16:\n",
        "  print(\"Magreza grave\")\n",
        "elif imc <= 16 and imc < 17:\n",
        "  print(\"Magreza moderada\")\n",
        "elif imc <= 17 and imc < 18.5:\n",
        "  print(\"Magreza leve\")\n",
        "elif imc <= 18.5 and imc < 25:\n",
        "  print(\"Saudável\")\n",
        "elif imc <= 25 and imc < 30:\n",
        "  print(\"Sobrepeso\")\n",
        "elif imc <= 30 and imc < 35:\n",
        "  print(\"Obesidade Grau I\")\n",
        "elif imc <= 35 and imc < 40:\n",
        "  print(\"Obesidade Grau II\")\n",
        "else:\n",
        "  print(\"Obesidade Grau III\")\n"
      ],
      "execution_count": null,
      "outputs": [
        {
          "output_type": "stream",
          "name": "stdout",
          "text": [
            "Digite altura: 200\n",
            "Digite o peso: 200\n",
            "Seu IMC é de:  50.0\n",
            "Obesidade Grau III\n"
          ]
        }
      ]
    },
    {
      "cell_type": "code",
      "metadata": {
        "id": "_0TrJPKTZj-9"
      },
      "source": [
        "  Escreva um programa para ler o ano de nascimento de uma pessoa e\n",
        "escrever uma mensagem que diga se ela poderá ou não votar este ano\n",
        "(não é necessário considerar o mês em que ela nasceu"
      ],
      "execution_count": null,
      "outputs": []
    },
    {
      "cell_type": "code",
      "metadata": {
        "colab": {
          "base_uri": "https://localhost:8080/"
        },
        "id": "O2QthzE-YSv8",
        "outputId": "b199b0e9-52ef-4ed3-e6ec-cc69651b1254"
      },
      "source": [
        "id=int(input(\"Digite seu ano de nascimento: \"))\n",
        "v=2021-id\n",
        "if v >= 16:\n",
        "  print(\"Você pode votar. Você tem: \",v,\" anos.\")\n",
        "else:\n",
        "  print(\"Calma!!! Você não pode votar. Você tem: \",v,\" anos.\")"
      ],
      "execution_count": null,
      "outputs": [
        {
          "output_type": "stream",
          "name": "stdout",
          "text": [
            "Digite seu ano de nascimento: 2015\n",
            "Calma!!! Você não pode votar. Você tem:  6  anos.\n"
          ]
        }
      ]
    },
    {
      "cell_type": "code",
      "metadata": {
        "id": "_5ggo-QWe6Dc"
      },
      "source": [
        "Faça um programa que pede duas notas de um aluno. \n",
        "Em seguida ele deve calcular a média do aluno e dar o seguinte resultado:\n",
        "\n",
        "    A mensagem \"Aprovado\", se a média alcançada for maior ou igual a sete;\n",
        "    A mensagem \"Reprovado\", se a média for menor do que sete;\n",
        "    A mensagem \"Aprovado com Distinção\", se a média for igual a dez"
      ],
      "execution_count": null,
      "outputs": []
    },
    {
      "cell_type": "code",
      "metadata": {
        "colab": {
          "base_uri": "https://localhost:8080/"
        },
        "id": "8lRbxHfve72s",
        "outputId": "98653b54-b363-48c0-eba1-ac5771684cbc"
      },
      "source": [
        "n1=int(input(\"Digite primeira nota: \"))\n",
        "n2=int(input(\"Digite 2º nota: \"))\n",
        "med=(n1+n2)/2\n",
        "if med == 10:\n",
        " print (\"Você foi Aprovado com Distinção. Sua média foi: \",med)\n",
        "elif med >= 7:\n",
        " print (\"Você foi Aprovado. Sua média foi: \",med)\n",
        "else:\n",
        "  print(\"Você foi reprovado. Sua média foi: \",med)"
      ],
      "execution_count": null,
      "outputs": [
        {
          "output_type": "stream",
          "name": "stdout",
          "text": [
            "Digite primeira nota: 7\n",
            "Digite 2º nota: 8\n",
            "Você foi Aprovado. Sua média foi:  7.5\n"
          ]
        }
      ]
    },
    {
      "cell_type": "code",
      "metadata": {
        "id": "On0XpAARhghl"
      },
      "source": [
        "Faça um Programa que pergunte em que turno você estuda. \n",
        "Peça para digitar M-matutino ou V-Vespertino ou N- Noturno. \n",
        "Imprima a mensagem \"Bom Dia!\", \"Boa Tarde!\" ou \"Boa Noite!\" ou \"Valor Inválido!\"\n",
        ",conforme o caso.\n"
      ],
      "execution_count": null,
      "outputs": []
    },
    {
      "cell_type": "code",
      "metadata": {
        "colab": {
          "base_uri": "https://localhost:8080/"
        },
        "id": "oSC34TXbh7zP",
        "outputId": "4b6e6094-8f99-4cef-a74b-9edf46fb34d6"
      },
      "source": [
        "t=input(\"Digite seu turno. M-matutino | V-Vespertino | N-Noturno    -\")\n",
        "if t==\"M\":\n",
        "  print(\"Bom dia!\")\n",
        "elif t==\"V\":\n",
        "  print(\"Boa Tarde!\")\n",
        "elif t==\"N\":\n",
        "  print(\"Boa Noite!\")\n",
        "else:\n",
        "  print(\"Valor Inválido!\")\n",
        "   "
      ],
      "execution_count": null,
      "outputs": [
        {
          "output_type": "stream",
          "name": "stdout",
          "text": [
            "Digite seu turno. M-matutino | V-Vespertino | N-Noturno    -V\n",
            "Boa Tarde!\n"
          ]
        }
      ]
    },
    {
      "cell_type": "code",
      "metadata": {
        "id": "krC5tKrehhWt"
      },
      "source": [
        "As Organizações Tabajara resolveram dar um aumento de salário aos seus \n",
        "colaboradores e lhe contrataram para desenvolver o programa \n",
        "que calculará os reajustes.\n",
        "\n",
        "Faça um programa que recebe o salário de um \n",
        "colaborador e o reajuste segundo o seguinte critério, baseado no salário atual:\n",
        "\n",
        "    salários até R$ 280,00 (incluindo) : aumento de 20%\n",
        "    salários entre R$ 280,00 e R$ 700,00 : aumento de 15%\n",
        "    salários entre R$ 700,00 e R$ 1500,00 : aumento de 10%\n",
        "    salários de R$ 1500,00 em diante : aumento de 5% \n",
        "    \n",
        "    Após o aumentoser realizado, informe na tela:\n",
        "\n",
        "    o salário antes do reajuste;\n",
        "    o percentual de aumento aplicado;\n",
        "    o valor do aumento;\n",
        "    o novo salário, após o aumento."
      ],
      "execution_count": null,
      "outputs": []
    },
    {
      "cell_type": "code",
      "metadata": {
        "colab": {
          "base_uri": "https://localhost:8080/"
        },
        "id": "KdEsMwPikiCu",
        "outputId": "3f43ad51-fba0-4aa1-ab8a-bc33c6553cd6"
      },
      "source": [
        "sal=float(input(\"Digite seu salario: \"))\n",
        "a1=0.2\n",
        "a2=0.15\n",
        "a3=0.1\n",
        "a4=0.05\n",
        "if sal <= 280 :\n",
        "  nsal= sal*(a1+1)\n",
        "  b=nsal-sal\n",
        "  print(\"Seu salario era \",sal,\"reais, o aumento foi de\",a1,\"%. Está ganhando a mais\",b,\"reais e seu salário atual é de: \",nsal)\n",
        "elif sal >= 280 and sal <= 700 :\n",
        "  nsal= sal*(a2+1)\n",
        "  b=nsal-sal\n",
        "  print(\"Seu salario era \",sal,\"reais, o aumento foi de\",a2,\"%. Está ganhando a mais\",b,\"reais e seu salário atual é de: \",nsal)\n",
        "elif sal >= 700 and sal <= 1500 :\n",
        "  nsal= sal*(a3+1)\n",
        "  b=nsal-sal\n",
        "  print(\"Seu salario era \",sal,\"reais, o aumento foi de\",a3,\"%. Está ganhando a mais\",b,\"reais e seu salário atual é de: \",nsal)\n",
        "else:\n",
        "  nsal= sal*(a4+1)\n",
        "  b=nsal-sal\n",
        "  print(\"Seu salario era \",sal,\"reais, o aumento foi de\",a4,\"%. Está ganhando a mais\",b,\"reais e seu salário atual é de: \",nsal)"
      ],
      "execution_count": null,
      "outputs": [
        {
          "output_type": "stream",
          "name": "stdout",
          "text": [
            "Digite seu salario: 700\n",
            "Seu salario era  700.0 reais, o aumento foi de 0.15 %. Está ganhando a mais 104.99999999999989 reais e seu salário atual é de:  804.9999999999999\n"
          ]
        }
      ]
    }
  ]
}