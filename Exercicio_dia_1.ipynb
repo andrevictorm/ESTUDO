{
  "nbformat": 4,
  "nbformat_minor": 0,
  "metadata": {
    "colab": {
      "name": "Exercicio dia 1.ipynb",
      "provenance": [],
      "authorship_tag": "ABX9TyMy3dhnXn7wISupY25raKxo",
      "include_colab_link": true
    },
    "kernelspec": {
      "name": "python3",
      "display_name": "Python 3"
    },
    "language_info": {
      "name": "python"
    }
  },
  "cells": [
    {
      "cell_type": "markdown",
      "metadata": {
        "id": "view-in-github",
        "colab_type": "text"
      },
      "source": [
        "<a href=\"https://colab.research.google.com/github/andrevictorm/ESTUDO/blob/main/Exercicio_dia_1.ipynb\" target=\"_parent\"><img src=\"https://colab.research.google.com/assets/colab-badge.svg\" alt=\"Open In Colab\"/></a>"
      ]
    },
    {
      "cell_type": "code",
      "metadata": {
        "id": "lgK2klykJ_3x"
      },
      "source": [
        "Determine os resultados obtidos na avaliação das expressões lógicas seguintes, \n",
        "sabendo que A, B, e C contêm, respectivamente, 2, 7 e 3.5 e que existe uma \n",
        "variável lógica L cujo valor é False (F):\n",
        "\n",
        "A=2\n",
        "B=7\n",
        "C=3.5\n",
        "L=False\n",
        "\n",
        "B = A * C and ( L or True ) | true \n",
        "B > A or B > A ** A | true \n",
        "L and B > A or C < A and A <= C | false\n",
        "not L or True and A + B >= C  | true\n",
        "B / A == C ou B / A != C  | true\n",
        "L or B ** A <= C * 10 + A * B   | True"
      ],
      "execution_count": null,
      "outputs": []
    },
    {
      "cell_type": "code",
      "metadata": {
        "id": "B_At4pr5QhG1"
      },
      "source": [
        "2) 1- Supondo que A, B e C são variáveis do tipo inteiro, \n",
        "com valores iguais a 5, 10 e -8, respectivamente,\n",
        " e uma variável D com valor de 1.5, quais os resultados das expressões aritméticas apresentadas em seguida?\n",
        "\n",
        "A=5\n",
        "B=10\n",
        "C=-8\n",
        "D=1.5\n",
        "\n",
        "2 * A % 3 – C || resposta: 9\n",
        "( ( 20 / 3 ) / 3 ) + 2**8 / 2 || resposta: 130.2222\n",
        "( 30 % 4 * 3 ** 3 ) * -1 || resposta: -54\n",
        "-C**2 + ( D * 10 ) / A || respsota: -61"
      ],
      "execution_count": null,
      "outputs": []
    },
    {
      "cell_type": "code",
      "metadata": {
        "colab": {
          "base_uri": "https://localhost:8080/"
        },
        "id": "ilKigbNPRflO",
        "outputId": "641844c7-1867-4aa8-b6be-52aaad00e5d8"
      },
      "source": [
        "A=5\n",
        "B=10\n",
        "C=-8\n",
        "D=1.5\n",
        "\n",
        "r=-C**2 + ( D * 10 ) / A\n",
        "print (r)"
      ],
      "execution_count": null,
      "outputs": [
        {
          "output_type": "stream",
          "name": "stdout",
          "text": [
            "-61.0\n"
          ]
        }
      ]
    },
    {
      "cell_type": "code",
      "metadata": {
        "id": "6ZKvIP7bST7e"
      },
      "source": [
        "3) Crie um programa que leia um número inteiro\n",
        " de 3 dígitos e inverta esse número. Ao final, exiba o resultado na tela.\n",
        "\n",
        "Ex: usuário digita 514\n",
        "O resultado a ser exibido é 415\n",
        "Usuário digita 123\n",
        "O resultado a ser exibido é 321"
      ],
      "execution_count": null,
      "outputs": []
    },
    {
      "cell_type": "code",
      "metadata": {
        "id": "8ZO8CyBtSrLO",
        "colab": {
          "base_uri": "https://localhost:8080/"
        },
        "outputId": "33f6f3e4-9675-4be6-e917-bb1e37ad002f"
      },
      "source": [
        "n1= int(input(\"Digite o nº: \"))\n",
        "print (\"Numero invertido é: \", n1%10,n1%100//10,n1//100)"
      ],
      "execution_count": null,
      "outputs": [
        {
          "output_type": "stream",
          "name": "stdout",
          "text": [
            "Digite o nº: 879\n",
            "Numero invertido é:  9 7 8\n"
          ]
        }
      ]
    },
    {
      "cell_type": "code",
      "metadata": {
        "id": "ctFtcvz5SrKO"
      },
      "source": [
        "n1= int(input(\"Digite o nº: \"))\n",
        "print (\"Numero invertido é: \", n1%10,n1%100//10,n1//100)"
      ],
      "execution_count": null,
      "outputs": []
    }
  ]
}