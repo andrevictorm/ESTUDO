{
  "nbformat": 4,
  "nbformat_minor": 0,
  "metadata": {
    "colab": {
      "name": "Andre_Victor_Lista de Exercícios sobre Funções",
      "provenance": [],
      "authorship_tag": "ABX9TyNOXC+YPheR3cHg8Wps8NsZ",
      "include_colab_link": true
    },
    "kernelspec": {
      "name": "python3",
      "display_name": "Python 3"
    },
    "language_info": {
      "name": "python"
    }
  },
  "cells": [
    {
      "cell_type": "markdown",
      "metadata": {
        "id": "view-in-github",
        "colab_type": "text"
      },
      "source": [
        "<a href=\"https://colab.research.google.com/github/andrevictorm/ESTUDO/blob/main/Andre_Victor_Lista_de_Exerc%C3%ADcios_sobre_Fun%C3%A7%C3%B5es.ipynb\" target=\"_parent\"><img src=\"https://colab.research.google.com/assets/colab-badge.svg\" alt=\"Open In Colab\"/></a>"
      ]
    },
    {
      "cell_type": "code",
      "metadata": {
        "id": "wEZGFDyL1WtO"
      },
      "source": [
        "1) Faça um programa para imprimir:\n",
        "   1\n",
        "    2   2\n",
        "    3   3   3\n",
        "    .....    n   n   n   n   n   n  ... n\n",
        "para um n informado pelo usuário. Use uma função que receba um valor n inteiro e imprima até a n-ésima linha."
      ],
      "execution_count": null,
      "outputs": []
    },
    {
      "cell_type": "code",
      "metadata": {
        "colab": {
          "base_uri": "https://localhost:8080/"
        },
        "id": "SsesMLIV2r5D",
        "outputId": "a33745c9-07d6-4bd1-8ad6-d2f0a79734ba"
      },
      "source": [
        "def imprimir_tabela(n):\n",
        "  for j in range(n):\n",
        "    j=j+1\n",
        "    print((str(j)+' ')*j)\n",
        "\n",
        "n = int(input('Digite um número: '))\n",
        "imprimir_tabela(n)"
      ],
      "execution_count": null,
      "outputs": [
        {
          "output_type": "stream",
          "name": "stdout",
          "text": [
            "Digite um número: 5\n",
            "1 \n",
            "2 2 \n",
            "3 3 3 \n",
            "4 4 4 4 \n",
            "5 5 5 5 5 \n"
          ]
        }
      ]
    },
    {
      "cell_type": "code",
      "metadata": {
        "id": "LD7ITztE9Igs",
        "colab": {
          "base_uri": "https://localhost:8080/"
        },
        "outputId": "edc4c327-3e63-4673-c8eb-bf9e21ea555b"
      },
      "source": [
        "def exibirnumber(numero):\n",
        "  \n",
        "  for j in range (numero +1):\n",
        "    \n",
        "    for x in range(1,j+1):\n",
        "      print(j, end=\" \")\n",
        "    print()\n",
        "\n",
        "n= int(input(\"Digite um número: \"))\n",
        "while n<0:\n",
        "  n=int(input(\"Digite um número: \"))\n",
        "\n",
        "exibirnumber(n)"
      ],
      "execution_count": null,
      "outputs": [
        {
          "output_type": "stream",
          "name": "stdout",
          "text": [
            "Digite um número: 5\n",
            "\n",
            "1 \n",
            "2 2 \n",
            "3 3 3 \n",
            "4 4 4 4 \n",
            "5 5 5 5 5 \n"
          ]
        }
      ]
    },
    {
      "cell_type": "code",
      "metadata": {
        "id": "XnXrxtUX9D60"
      },
      "source": [
        "2) Faça um programa para imprimir:\n",
        "   1\n",
        "    1   2\n",
        "    1   2   3\n",
        "    .....    1   2   3   ...  n\n",
        "para um n informado pelo usuário. Use uma função que receba um valor n inteiro imprima até a n-ésima linha."
      ],
      "execution_count": null,
      "outputs": []
    },
    {
      "cell_type": "code",
      "metadata": {
        "id": "MTEftbrPOnqc"
      },
      "source": [
        "imprimir_tabela(4)"
      ],
      "execution_count": null,
      "outputs": []
    },
    {
      "cell_type": "code",
      "metadata": {
        "id": "IWQgHgFK9SyU",
        "colab": {
          "base_uri": "https://localhost:8080/"
        },
        "outputId": "ab643481-7fe6-4b08-f923-810f446917c3"
      },
      "source": [
        "def imprimir_tabela(n):\n",
        "  tab=[]\n",
        "  for j in range(n):\n",
        "    tab.append(j)\n",
        "    print(tab)\n",
        "    \n",
        "n = int(input('Digite um número: '))\n",
        "imprimir_tabela(n)\n"
      ],
      "execution_count": null,
      "outputs": [
        {
          "output_type": "stream",
          "name": "stdout",
          "text": [
            "Digite um número: 8\n",
            "[0]\n",
            "[0, 1]\n",
            "[0, 1, 2]\n",
            "[0, 1, 2, 3]\n",
            "[0, 1, 2, 3, 4]\n",
            "[0, 1, 2, 3, 4, 5]\n",
            "[0, 1, 2, 3, 4, 5, 6]\n",
            "[0, 1, 2, 3, 4, 5, 6, 7]\n"
          ]
        }
      ]
    },
    {
      "cell_type": "code",
      "metadata": {
        "id": "S_CS09FnObJV",
        "colab": {
          "base_uri": "https://localhost:8080/"
        },
        "outputId": "f4a5541a-eef6-4c92-8ff8-372fc0c82fa6"
      },
      "source": [
        "def Q2():\n",
        "  n=int(input('Insira um nº: '))\n",
        "  for c in range (1,n+1):\n",
        "    print()\n",
        "    for l in range(1,c+1):\n",
        "      print(l,end=\" \")\n",
        "\n",
        "Q2()"
      ],
      "execution_count": null,
      "outputs": [
        {
          "output_type": "stream",
          "name": "stdout",
          "text": [
            "Insira um nº: 5\n",
            "\n",
            "1 \n",
            "1 2 \n",
            "1 2 3 \n",
            "1 2 3 4 \n",
            "1 2 3 4 5 "
          ]
        }
      ]
    },
    {
      "cell_type": "code",
      "metadata": {
        "id": "CGf4MKL2AIy9"
      },
      "source": [
        "3) Faça um programa, com uma função que necessite de três argumentos, \n",
        "e que forneça a soma desses três argumentos.\n"
      ],
      "execution_count": null,
      "outputs": []
    },
    {
      "cell_type": "code",
      "metadata": {
        "colab": {
          "base_uri": "https://localhost:8080/"
        },
        "id": "Hjucpk4NAMG9",
        "outputId": "1870af55-fe9d-48f7-b48c-8604cf04375d"
      },
      "source": [
        "def soma_3(n1, n2, n3):\n",
        "    s = n1 + n2 + n3\n",
        "    return s\n",
        "\n",
        "print('Soma de três digitos')\n",
        "n1 = int(input('Primeiro número: '))\n",
        "n2 = int(input('Segundo número: '))\n",
        "n3 = int(input('Terceiro número: '))\n",
        "\n",
        "print('A Soma total é: ', soma_3(n1, n2, n3))"
      ],
      "execution_count": null,
      "outputs": [
        {
          "output_type": "stream",
          "name": "stdout",
          "text": [
            "Soma de três digitos\n",
            "Primeiro número: 4\n",
            "Segundo número: 5\n",
            "Terceiro número: 6\n",
            "A Soma total é:  None\n"
          ]
        }
      ]
    },
    {
      "cell_type": "code",
      "metadata": {
        "id": "FY25l3FADYjt"
      },
      "source": [
        "4) Faça um programa, com uma função que necessite de um argumento. \n",
        "A função retorna o valor de caractere ‘P’, se seu argumento for positivo, \n",
        "e ‘N’, se seu argumento for zero ou negativo.\n"
      ],
      "execution_count": null,
      "outputs": []
    },
    {
      "cell_type": "code",
      "metadata": {
        "colab": {
          "base_uri": "https://localhost:8080/"
        },
        "id": "Xl97Xl93D6Qd",
        "outputId": "2d2e1be2-0216-44e9-c884-b4e41344f917"
      },
      "source": [
        "def pos_neg(n):\n",
        "  if n > 1:\n",
        "    print(\"É Positivo\")\n",
        "  elif n == 0:\n",
        "    print(\"Nº é nulo (Zero)\")\n",
        "  else:\n",
        "    print(\"É Negativo\")\n",
        "\n",
        "\n",
        "print('Digite um numero para saber se é Positivo ou negativo')\n",
        "n = int(input('Primeiro número: '))\n",
        "pos_neg(n)"
      ],
      "execution_count": null,
      "outputs": [
        {
          "output_type": "stream",
          "name": "stdout",
          "text": [
            "Digite um numero para saber se é Positivo ou negativo\n",
            "Primeiro número: -2\n",
            "É Negativo\n"
          ]
        }
      ]
    },
    {
      "cell_type": "code",
      "metadata": {
        "id": "b7Dbu13XGQg9"
      },
      "source": [
        "5) Faça uma calculadora utilizando funções que receba dois números e \n",
        "realize as 4 operações básicas da matemática.\n"
      ],
      "execution_count": null,
      "outputs": []
    },
    {
      "cell_type": "code",
      "metadata": {
        "id": "SgjW9HncGeTd"
      },
      "source": [
        "def basicalculator(n1, n2):\n",
        "    s = n1 + n2\n",
        "    print(\"A soma é: \",s)\n",
        "    d = n1 - n2\n",
        "    print(\"A diminuição é: \",d)\n",
        "    mul = n1* n2\n",
        "    print(\"A multiplicação é: \",mul)\n",
        "    div = n1 / n2\n",
        "    print(\"A divisão é: ,\",div)\n",
        "\n",
        "\n",
        "print('Soma, Diminuição, Multiplicação e Divisão')\n",
        "n1 = int(input('Primeiro número: '))\n",
        "n2 = int(input('Segundo número: '))\n",
        "\n",
        "basicalculator(n1, n2)"
      ],
      "execution_count": null,
      "outputs": []
    },
    {
      "cell_type": "code",
      "metadata": {
        "colab": {
          "base_uri": "https://localhost:8080/"
        },
        "id": "fz2NYIiLIyP3",
        "outputId": "93846ae1-b533-4965-c908-db21a78f2bae"
      },
      "source": [
        "basicalculator(5,2)"
      ],
      "execution_count": null,
      "outputs": [
        {
          "output_type": "stream",
          "name": "stdout",
          "text": [
            "A soma é:  7\n",
            "A diminuição é:  3\n",
            "A multiplicação é:  10\n",
            "A divisão é: , 2.5\n"
          ]
        }
      ]
    },
    {
      "cell_type": "code",
      "metadata": {
        "id": "KpnZYEPtI5he"
      },
      "source": [
        ""
      ],
      "execution_count": null,
      "outputs": []
    }
  ]
}