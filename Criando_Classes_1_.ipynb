{
  "nbformat": 4,
  "nbformat_minor": 0,
  "metadata": {
    "colab": {
      "name": "Criando Classes_1 .ipynb",
      "provenance": [],
      "include_colab_link": true
    },
    "kernelspec": {
      "name": "python3",
      "display_name": "Python 3"
    },
    "language_info": {
      "name": "python"
    }
  },
  "cells": [
    {
      "cell_type": "markdown",
      "metadata": {
        "id": "view-in-github",
        "colab_type": "text"
      },
      "source": [
        "<a href=\"https://colab.research.google.com/github/andrevictorm/ESTUDO/blob/main/Criando_Classes_1_.ipynb\" target=\"_parent\"><img src=\"https://colab.research.google.com/assets/colab-badge.svg\" alt=\"Open In Colab\"/></a>"
      ]
    },
    {
      "cell_type": "code",
      "metadata": {
        "id": "f2i4vpZOEpXw",
        "colab": {
          "base_uri": "https://localhost:8080/"
        },
        "outputId": "86149015-29ce-47a6-e185-8aa9215607b8"
      },
      "source": [
        "# class NomeDaPessoa\n",
        "class Pessoa: #nome da classe, CamelCase é convenção\n",
        "  #ATRIBUTOS\n",
        "  nome = \"Nara\"\n",
        "  idade = 32\n",
        "  altura = 1.68\n",
        "  peso = 81\n",
        "\n",
        "  #MÉTODOS\n",
        "  def falar(self):\n",
        "    print(\"Olá, Mundo!\")\n",
        "  \n",
        "  def andar(self):\n",
        "    print(\"Andar\")\n",
        "\n",
        "#INSTANCIANDO UM OBJETO\n",
        "p1 = Pessoa()\n",
        "p1.nome = \"Thais\"\n",
        "p1.idade = 37\n",
        "p1.andar()\n",
        "p1.falar()\n",
        "\n",
        "p2 = Pessoa()\n",
        "p2.andar()\n",
        "p2.falar()"
      ],
      "execution_count": null,
      "outputs": [
        {
          "output_type": "stream",
          "name": "stdout",
          "text": [
            "Andar\n",
            "Olá, Mundo!\n",
            "Andar\n",
            "Olá, Mundo!\n"
          ]
        }
      ]
    },
    {
      "cell_type": "code",
      "metadata": {
        "colab": {
          "base_uri": "https://localhost:8080/"
        },
        "id": "mTG7quyPF23N",
        "outputId": "3b68b481-85ef-485a-d2ce-bedda7c8923d"
      },
      "source": [
        "#CLASSES, OBJETOS, HERANÇA MÉTODOS, ATRIBUTOS ENCAPSULAMENTO  \n",
        "class Pessoa:\n",
        "\n",
        "  #MÉTODO CONSTRUTOR - é executado no momento em que eu instancio a classe\n",
        "  def __init__(self, nome, idade, sexo, telefone, falando=False, comendo=False):\n",
        "    self.nome = nome \n",
        "    self.idade = idade\n",
        "    self.sexo = sexo\n",
        "    self.telefone = telefone\n",
        "    self.falando = falando\n",
        "    self.comendo = comendo\n",
        "\n",
        "\n",
        "  #MÉTODOS DA CLASSE\n",
        "\n",
        "  def andar(self):\n",
        "    print('Andando...')\n",
        "\n",
        "  def comer(self, alimento):\n",
        "    if self.comendo:\n",
        "      print(f'{self.nome} já está comendo.')\n",
        "      return\n",
        "    if self.falando:\n",
        "      print(f'{self.nome}, não pode falar comendo.')\n",
        "      return\n",
        "    \n",
        "    print(f'{self.nome} está comendo {alimento}.')\n",
        "    self.comendo = True\n",
        "\n",
        "  def parar_de_comer(self):\n",
        "    if not self.comendo:\n",
        "      print(f'{self.nome} não está comendo.')\n",
        "      return\n",
        "    \n",
        "    print(f'{self.nome} parou de comer.')\n",
        "    self.comendo = False \n",
        "\n",
        "\n",
        "  def falar(self, assunto):\n",
        "    if self.comendo:\n",
        "      print(f'{self.nome} não pode falar comendo.')\n",
        "      return\n",
        "\n",
        "    print(f'{self.nome} está falando sobre {assunto}.')\n",
        "    self.falando = True\n",
        "\n",
        "  def parar_de_falar(self):\n",
        "    if not self.falando:\n",
        "      print(f'{self.nome} não está falando.')\n",
        "      return\n",
        "    \n",
        "    print(f'{self.nome} parou de falar.')\n",
        "    self.falando = False \n",
        "\n",
        "\n",
        "\n",
        "#INSTANCIAR A CLASSE - CRIAR UM OBJETO DA CLASSE\n",
        "\"\"\"\n",
        "#p1 = Pessoa()\n",
        "p1.nome = 'Enzo Gabriel'\n",
        "p1.idade = 14\n",
        "\n",
        "#p2 = Pessoa()\n",
        "p2.nome = 'Valentina'\n",
        "p2.idade = 13\n",
        "\n",
        "print(p1.nome)\n",
        "print(p1.idade)\n",
        "p1.falar()\n",
        "print(p2.nome)\n",
        "\"\"\"\n",
        "\n",
        "p1 = Pessoa('Juliana', 10, 'F', '1199558844756')\n",
        "#p1.falar()\n",
        "#p1.andar()\n",
        "#print(p1.nome, p1.idade)\n",
        "\n",
        "\n",
        "p2 = Pessoa('Tereza', 23, 'F', '11985932874')\n",
        "#print(p2.falando)\n",
        "\n",
        "p1.comer('Chocolate')\n",
        "p1.parar_de_comer()\n",
        "p1.comer('Bolo de Cenoura')\n",
        "p1.comer('Morangos')\n",
        "p1.parar_de_comer()\n",
        "p1.falar('Política Internacional')\n",
        "p1.comer('Macarrao')\n",
        "p1.parar_de_falar()\n",
        "p1.comer('Lasanha')\n"
      ],
      "execution_count": null,
      "outputs": [
        {
          "output_type": "stream",
          "name": "stdout",
          "text": [
            "André não está comendo.\n",
            "André não está comendo.\n",
            "André está falando sobre Política Internacional.\n",
            "André, não pode falar comendo.\n",
            "André parou de falar.\n"
          ]
        }
      ]
    }
  ]
}