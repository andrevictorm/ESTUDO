{
  "nbformat": 4,
  "nbformat_minor": 0,
  "metadata": {
    "colab": {
      "name": "André_Victor_Python - while.ipynb",
      "provenance": [],
      "authorship_tag": "ABX9TyOwmgr3QFJxoLcNgHGUCYAi",
      "include_colab_link": true
    },
    "kernelspec": {
      "name": "python3",
      "display_name": "Python 3"
    },
    "language_info": {
      "name": "python"
    }
  },
  "cells": [
    {
      "cell_type": "markdown",
      "metadata": {
        "id": "view-in-github",
        "colab_type": "text"
      },
      "source": [
        "<a href=\"https://colab.research.google.com/github/andrevictorm/ESTUDO/blob/main/Andr%C3%A9_Victor_Python_while.ipynb\" target=\"_parent\"><img src=\"https://colab.research.google.com/assets/colab-badge.svg\" alt=\"Open In Colab\"/></a>"
      ]
    },
    {
      "cell_type": "code",
      "metadata": {
        "id": "ITKMx68-gSrL"
      },
      "source": [
        "1) Escrever um programa para exibir os números de 1 até 50 na tela.\n"
      ],
      "execution_count": null,
      "outputs": []
    },
    {
      "cell_type": "code",
      "metadata": {
        "id": "UEjab-sSpabP"
      },
      "source": [
        "i=1\n",
        "n=50\n",
        "while i <=50:\n",
        "  print(i)\n",
        "  i=i+1"
      ],
      "execution_count": null,
      "outputs": []
    },
    {
      "cell_type": "code",
      "metadata": {
        "id": "YrTBk4mpptyn"
      },
      "source": [
        "2) Escrever um programa para exibir os números de 25 a 85 na tela.\n"
      ],
      "execution_count": null,
      "outputs": []
    },
    {
      "cell_type": "code",
      "metadata": {
        "id": "agK89Be6pu2G"
      },
      "source": [
        "i=25\n",
        "n=85\n",
        "while i <=85:\n",
        "  print(i)\n",
        "  i=i+1"
      ],
      "execution_count": null,
      "outputs": []
    },
    {
      "cell_type": "code",
      "metadata": {
        "id": "4Y4r4vMCp2ze"
      },
      "source": [
        "3) Escrever um programa para exibir os números de 1 a 100 em ordem inversa.\n"
      ],
      "execution_count": null,
      "outputs": []
    },
    {
      "cell_type": "code",
      "metadata": {
        "id": "HIYBF8Jop3cm"
      },
      "source": [
        "i=100\n",
        "n=1\n",
        "while i >= 1:\n",
        "  print(i)\n",
        "  i=i-1"
      ],
      "execution_count": null,
      "outputs": []
    },
    {
      "cell_type": "code",
      "metadata": {
        "id": "MnA3wmnEqIuu"
      },
      "source": [
        "4) Fazer um programa para encontrar todos os números pares entre 1 e 100.\n"
      ],
      "execution_count": null,
      "outputs": []
    },
    {
      "cell_type": "code",
      "metadata": {
        "id": "PmPeEKVmqbIe"
      },
      "source": [
        "i=1\n",
        "n=100\n",
        "while i <= 100:\n",
        "  if i%2 == 0:\n",
        "    print(i)\n",
        "  i=i+1"
      ],
      "execution_count": null,
      "outputs": []
    },
    {
      "cell_type": "code",
      "metadata": {
        "id": "BI-drp0nqfqA"
      },
      "source": [
        "5) Fazer um programa para encontrar todos os múltiplos de 3 de 1 a 50.\n"
      ],
      "execution_count": null,
      "outputs": []
    },
    {
      "cell_type": "code",
      "metadata": {
        "id": "feBKZiwqqyNH"
      },
      "source": [
        "i=1\n",
        "n=100\n",
        "while i <= 50:\n",
        "  if i%3 == 0:\n",
        "    print(i)\n",
        "  i=i+1"
      ],
      "execution_count": null,
      "outputs": []
    },
    {
      "cell_type": "code",
      "metadata": {
        "id": "GZep7trXrZF_"
      },
      "source": [
        "6) Ler um valor inteiro (aceitar somente valores entre 1 e 10) e escrever a tabuada de 1 a 10 do valor lido.\n"
      ],
      "execution_count": null,
      "outputs": []
    },
    {
      "cell_type": "code",
      "metadata": {
        "id": "WGT7UZy1rjk_"
      },
      "source": [
        "i=0\n",
        "n=int(input(\"digite um nº: \"))\n",
        "while n < 0 and n >= 10:\n",
        "  n=int(input(\"digite um nº: \"))\n",
        "\n",
        "while i <=10:\n",
        "  print(n*i)\n",
        "  i=i+1"
      ],
      "execution_count": null,
      "outputs": []
    },
    {
      "cell_type": "code",
      "metadata": {
        "id": "ug5axGaQsqFH"
      },
      "source": [
        "7) Faça um programa que leia 5 idades e mostre na tela a média das idades lidas.\n"
      ],
      "execution_count": null,
      "outputs": []
    },
    {
      "cell_type": "code",
      "metadata": {
        "colab": {
          "base_uri": "https://localhost:8080/"
        },
        "id": "sOXApJ1vtHS3",
        "outputId": "84ebd80d-50a8-488b-ae4a-832df7840fe4"
      },
      "source": [
        "i=0\n",
        "m=0\n",
        "while i < 5:\n",
        "  n=float(input(\"digite a idade: \"))\n",
        "  while n <= 0:\n",
        "    n=float(input(\"digite a idade: \"))\n",
        "  m=n+m\n",
        "  i=i+1\n",
        "med=m/5\n",
        "print(med)"
      ],
      "execution_count": null,
      "outputs": [
        {
          "output_type": "stream",
          "name": "stdout",
          "text": [
            "digite a idade: 50\n",
            "digite a idade: 30\n",
            "digite a idade: 40\n",
            "digite a idade: 20\n",
            "digite a idade: 46\n",
            "37.2\n"
          ]
        }
      ]
    },
    {
      "cell_type": "code",
      "metadata": {
        "id": "jzi5IMVmuv3_"
      },
      "source": [
        "8) Ler 10 números e informar na tela quantos números pares foram digitados e quantos números ímpares foram digitados.\n"
      ],
      "execution_count": null,
      "outputs": []
    },
    {
      "cell_type": "code",
      "metadata": {
        "id": "LRxK4ReZvaSY"
      },
      "source": [
        "i=0\n",
        "p=0\n",
        "im=0\n",
        "while i < 10:\n",
        "  n=float(input(\"digite um nº: \"))\n",
        "  if n%2==0:\n",
        "    p=p+1\n",
        "  else:\n",
        "    im=im+1\n",
        "  while n <= 0:\n",
        "    n=float(input(\"digite um nº certo: \"))\n",
        "    if n%2==0:\n",
        "      p=p+1\n",
        "    else:\n",
        "      im=im+1\n",
        "  i=i+1\n",
        "print(p)\n",
        "print(im)"
      ],
      "execution_count": null,
      "outputs": []
    },
    {
      "cell_type": "code",
      "metadata": {
        "id": "AEMMddyuyRaY"
      },
      "source": [
        "9) Faça um programa que leia 3 notas (de 0 a 10) e informe na tela a média das notas lidas.\n"
      ],
      "execution_count": null,
      "outputs": []
    },
    {
      "cell_type": "code",
      "metadata": {
        "colab": {
          "base_uri": "https://localhost:8080/"
        },
        "id": "pqW_RwiTyTTI",
        "outputId": "723872e9-28b3-43a8-b5d9-46de0e658b0e"
      },
      "source": [
        "i=0\n",
        "m=0\n",
        "while i < 3:\n",
        "  n=float(input(\"digite a nota: \"))\n",
        "  while  n > 10:\n",
        "    n=float(input(\"digite a nota certa: \"))\n",
        "  m=n+m\n",
        "  i=i+1\n",
        "med=m/3\n",
        "print(med)"
      ],
      "execution_count": null,
      "outputs": [
        {
          "output_type": "stream",
          "name": "stdout",
          "text": [
            "digite a nota: 11\n",
            "digite a nota: 10\n",
            "digite a nota: 7\n",
            "digite a nota: 8\n",
            "8.333333333333334\n"
          ]
        }
      ]
    },
    {
      "cell_type": "code",
      "metadata": {
        "id": "2zyXAn-izxzK"
      },
      "source": [
        "i=0\n",
        "while i < 10:\n",
        "  n=float(input(\"digite um nº negativo: \"))\n",
        "  while n >= 0:\n",
        "    n=float(input(\"digite um nº negativo: \"))\n",
        "  i=i+1"
      ],
      "execution_count": null,
      "outputs": []
    },
    {
      "cell_type": "code",
      "metadata": {
        "id": "rqxhm7qD0_Ih"
      },
      "source": [
        "10) Foi feita uma pesquisa entre os habitantes de uma região. \n",
        "Foram coletados os dados de idade,sexo (M/F) e salário. \n",
        "Faça um programa que calcule e mostre:\n",
        "\n",
        "a) A média dos salários do grupo;\n",
        "b) A maior e a menor idade do grupo;\n",
        "c) A quantidade de mulheres na região;\n",
        "d) A idade e o sexo da pessoa que possui o menor salário;\n",
        "\n",
        "Finalize a entrada de dados ao ser digitada uma idade negativa."
      ],
      "execution_count": null,
      "outputs": []
    },
    {
      "cell_type": "code",
      "metadata": {
        "colab": {
          "base_uri": "https://localhost:8080/"
        },
        "id": "AdfGokZl1S0o",
        "outputId": "182c65eb-fd9b-4055-d824-4d25daa23385"
      },
      "source": [
        "i=0\n",
        "m=0\n",
        "id=0\n",
        "mj=0\n",
        "#Idade\n",
        "\n",
        "while id >= 0:\n",
        "  id=int(input(\"digite a idade: \"))\n",
        "  if id >= 0 :\n",
        "    menor = id\n",
        "    maior = id\n",
        "  else:\n",
        "    if n > maior:\n",
        "      maior = id\n",
        "    if n < menor:\n",
        "      menor = id\n",
        "  \n",
        "#Sexo\n",
        "  s=str(input(\"digite 'F' ou 'M' para genero: \"))\n",
        "  while s != \"F\" and s != \"M\":\n",
        "    s=(input(\"digite 'F' ou 'M' para genero: \"))\n",
        "  if s == \"F\":\n",
        "    mj=mj+1\n",
        "\n",
        "#Salario\n",
        "  n=float(input(\"digite o salario: \"))\n",
        "  m=n+m\n",
        "  i=i+1\n",
        "\n",
        "med=m/i\n",
        "print(med)\n",
        "print(\"A maior idade é: \",maior, \" e a menor é: \", menor)\n",
        "print(mj)"
      ],
      "execution_count": null,
      "outputs": [
        {
          "output_type": "stream",
          "name": "stdout",
          "text": [
            "digite a idade: -1\n",
            "digite 'F' ou 'M' para genero: F\n",
            "digite o salario: 123\n",
            "123.0\n",
            "A maior idade é:  -1  e a menor é:  -1\n",
            "1\n"
          ]
        }
      ]
    }
  ]
}