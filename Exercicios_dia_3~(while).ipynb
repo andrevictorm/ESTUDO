{
  "nbformat": 4,
  "nbformat_minor": 0,
  "metadata": {
    "colab": {
      "name": "Exercicios dia 3~(while).ipynb",
      "provenance": [],
      "authorship_tag": "ABX9TyMw3ka22j7yd8efzzGIUi+O",
      "include_colab_link": true
    },
    "kernelspec": {
      "name": "python3",
      "display_name": "Python 3"
    },
    "language_info": {
      "name": "python"
    }
  },
  "cells": [
    {
      "cell_type": "markdown",
      "metadata": {
        "id": "view-in-github",
        "colab_type": "text"
      },
      "source": [
        "<a href=\"https://colab.research.google.com/github/andrevictorm/ESTUDO/blob/main/Exercicios_dia_3~(while).ipynb\" target=\"_parent\"><img src=\"https://colab.research.google.com/assets/colab-badge.svg\" alt=\"Open In Colab\"/></a>"
      ]
    },
    {
      "cell_type": "code",
      "metadata": {
        "id": "WwAmKlYFTxOB"
      },
      "source": [
        "Quatnos numeros existem de 50 a 220 que são pares?"
      ],
      "execution_count": null,
      "outputs": []
    },
    {
      "cell_type": "code",
      "metadata": {
        "colab": {
          "base_uri": "https://localhost:8080/"
        },
        "id": "6qyp1CIcT5Vv",
        "outputId": "c72084cb-ac20-43e6-9f20-29b19ce4db66"
      },
      "source": [
        "ni=50\n",
        "nf=220\n",
        "c=0\n",
        "while ni < 220:\n",
        "  if (ni%2==0):\n",
        "    c=c+1\n",
        "  ni=ni+1\n",
        "\n",
        "print(c)\n",
        "  \n"
      ],
      "execution_count": null,
      "outputs": [
        {
          "output_type": "stream",
          "name": "stdout",
          "text": [
            "85\n"
          ]
        }
      ]
    },
    {
      "cell_type": "code",
      "metadata": {
        "id": "lij_Yio_u5Si"
      },
      "source": [
        "leia 10 nº entre 100 e 500, imprima o maior e o menor"
      ],
      "execution_count": null,
      "outputs": []
    },
    {
      "cell_type": "code",
      "metadata": {
        "id": "-jhGJgo22ngk"
      },
      "source": [
        "i=1\n",
        "while i <=10:\n",
        "  n=0\n",
        "  while n < 100 or > 500:\n",
        "    n=int(input(\"Digite nº entre 100 e 500\"))\n",
        "    if i ==1:\n",
        "      menor = n\n",
        "      maior = n\n",
        "    else:\n",
        "      if n > maior:\n",
        "        maior = n\n",
        "      if n < menor:\n",
        "        menor = n\n",
        "    i=i+1\n",
        "print(menor)\n",
        "print(maior)"
      ],
      "execution_count": null,
      "outputs": []
    },
    {
      "cell_type": "code",
      "metadata": {
        "colab": {
          "base_uri": "https://localhost:8080/"
        },
        "id": "Td-AZwMkILKH",
        "outputId": "8b019a3d-fd00-4c5e-8978-61b09fbe3c6c"
      },
      "source": [
        "i=0\n",
        "n=-10\n",
        "while i <10:\n",
        "  print(n)\n",
        "  n=n+1\n",
        "  i=i+1"
      ],
      "execution_count": null,
      "outputs": [
        {
          "output_type": "stream",
          "name": "stdout",
          "text": [
            "-10\n",
            "-9\n",
            "-8\n",
            "-7\n",
            "-6\n",
            "-5\n",
            "-4\n",
            "-3\n",
            "-2\n",
            "-1\n"
          ]
        }
      ]
    }
  ]
}