{
  "nbformat": 4,
  "nbformat_minor": 0,
  "metadata": {
    "colab": {
      "name": "Exercicios dia 2.ipynb",
      "provenance": [],
      "authorship_tag": "ABX9TyMxrlN6IjNoYBsuLpQCzU3G",
      "include_colab_link": true
    },
    "kernelspec": {
      "name": "python3",
      "display_name": "Python 3"
    },
    "language_info": {
      "name": "python"
    }
  },
  "cells": [
    {
      "cell_type": "markdown",
      "metadata": {
        "id": "view-in-github",
        "colab_type": "text"
      },
      "source": [
        "<a href=\"https://colab.research.google.com/github/andrevictorm/ESTUDO/blob/main/Exercicios_dia_2.ipynb\" target=\"_parent\"><img src=\"https://colab.research.google.com/assets/colab-badge.svg\" alt=\"Open In Colab\"/></a>"
      ]
    },
    {
      "cell_type": "code",
      "metadata": {
        "id": "sdEYr1LdCE-z"
      },
      "source": [
        "Crie um programa que compara duas strings e veja se elas são iguais.\n"
      ],
      "execution_count": null,
      "outputs": []
    },
    {
      "cell_type": "code",
      "metadata": {
        "colab": {
          "base_uri": "https://localhost:8080/"
        },
        "id": "fgYFZNclCX-N",
        "outputId": "98bbf980-4a38-4a41-84a3-27f655952635"
      },
      "source": [
        "n1=(input(\"Digite sua palavra: \"))\n",
        "n2=(input(\"Digite sua 2º palavra: \"))\n",
        "n1 in n2"
      ],
      "execution_count": null,
      "outputs": [
        {
          "name": "stdout",
          "output_type": "stream",
          "text": [
            "Digite sua palavra: banana\n",
            "Digite sua 2º palavra: maça\n"
          ]
        },
        {
          "output_type": "execute_result",
          "data": {
            "text/plain": [
              "False"
            ]
          },
          "metadata": {},
          "execution_count": 5
        }
      ]
    },
    {
      "cell_type": "code",
      "metadata": {
        "id": "_CUnfW_cDhJW"
      },
      "source": [
        " Faça um programa que leia um nome completo e imprima as 4 primeiras letras do nome.\n"
      ],
      "execution_count": null,
      "outputs": []
    },
    {
      "cell_type": "code",
      "metadata": {
        "colab": {
          "base_uri": "https://localhost:8080/"
        },
        "id": "tC9Enu-ADmD9",
        "outputId": "d380961a-f4a1-4b18-d9cf-4195e770066b"
      },
      "source": [
        "n1=(input(\"Digite sua palavra: \"))\n",
        "print(n1[0:4])"
      ],
      "execution_count": null,
      "outputs": [
        {
          "output_type": "stream",
          "name": "stdout",
          "text": [
            "Digite sua palavra: andre victor\n",
            "andr\n"
          ]
        }
      ]
    },
    {
      "cell_type": "code",
      "metadata": {
        "id": "RDonFqwTEape"
      },
      "source": [
        "Com o mesmo nome da questão 2, agora verifique a quantidade \n",
        "de caracteres que contém o nome digitado (Não pode contar os espaços em branco)\n"
      ],
      "execution_count": null,
      "outputs": []
    },
    {
      "cell_type": "code",
      "metadata": {
        "colab": {
          "base_uri": "https://localhost:8080/"
        },
        "id": "Iaj8NKEJE4PN",
        "outputId": "20f060ae-2471-47dc-88a3-78dc43636e26"
      },
      "source": [
        "n1=(input(\"Digite sua palavra: \"))\n",
        "n1=n1.strip()\n",
        "n1=n1.replace(\" \",\"\")\n",
        "print(len(n1))"
      ],
      "execution_count": null,
      "outputs": [
        {
          "output_type": "stream",
          "name": "stdout",
          "text": [
            "Digite sua palavra: andre victor\n",
            "11\n"
          ]
        }
      ]
    },
    {
      "cell_type": "code",
      "metadata": {
        "id": "APpvEEi8Hb-e"
      },
      "source": [
        "Leia uma frase qualquer e verifique se a pessoa \n",
        "digitou a palavra “cachorro” nessa frase \n",
        "(Não importa a maneira como a pessoa escreveu)\n"
      ],
      "execution_count": null,
      "outputs": []
    },
    {
      "cell_type": "code",
      "metadata": {
        "colab": {
          "base_uri": "https://localhost:8080/"
        },
        "id": "2BWMVoAoHiUO",
        "outputId": "9fe5dfb4-507d-4236-99a4-0162ce8b54f2"
      },
      "source": [
        "n1=(input(\"Digite sua frase: \"))\n",
        "\"cachorro\" in n1"
      ],
      "execution_count": null,
      "outputs": [
        {
          "name": "stdout",
          "output_type": "stream",
          "text": [
            "Digite sua frase: Cachorro\n"
          ]
        },
        {
          "output_type": "execute_result",
          "data": {
            "text/plain": [
              "False"
            ]
          },
          "metadata": {},
          "execution_count": 30
        }
      ]
    },
    {
      "cell_type": "code",
      "metadata": {
        "id": "edrwELplIGXx"
      },
      "source": [
        "Crie um programa que leia uma string e mostre a string de trás \n",
        "pra frente até o 6º caractere"
      ],
      "execution_count": null,
      "outputs": []
    },
    {
      "cell_type": "code",
      "metadata": {
        "colab": {
          "base_uri": "https://localhost:8080/"
        },
        "id": "79VfI6vDIWCm",
        "outputId": "65084edb-fe7a-4d58-91a2-fdc53d268dbb"
      },
      "source": [
        "n1=(input(\"Digite sua palavra: \"))\n",
        "print(n1[-1:5:-1])\n"
      ],
      "execution_count": null,
      "outputs": [
        {
          "output_type": "stream",
          "name": "stdout",
          "text": [
            "Digite sua palavra: andre victor\n",
            "rotciv\n"
          ]
        }
      ]
    },
    {
      "cell_type": "code",
      "metadata": {
        "id": "FdPN-rOdJwvI"
      },
      "source": [
        "Faça um programa que conte o numero de 1’s que aparecem em um string. \n",
        "Exemplo: ´ 0011001 -> 3\n"
      ],
      "execution_count": null,
      "outputs": []
    },
    {
      "cell_type": "code",
      "metadata": {
        "colab": {
          "base_uri": "https://localhost:8080/"
        },
        "id": "jX0ukHfbJzjW",
        "outputId": "032d60a3-04e9-41a2-d494-8b451ea5d83d"
      },
      "source": [
        "n1=(input(\"Digite seu numero: \"))\n",
        "print(n1.count('1'))"
      ],
      "execution_count": null,
      "outputs": [
        {
          "output_type": "stream",
          "name": "stdout",
          "text": [
            "Digite seu numero: 10101\n",
            "3\n"
          ]
        }
      ]
    },
    {
      "cell_type": "code",
      "metadata": {
        "id": "VSJFIV7lKDr2"
      },
      "source": [
        "Escreva um programa que substitui as ocorrências \n",
        "de um caractere 0 em uma string por ˆ outro caractere 1.\n"
      ],
      "execution_count": null,
      "outputs": []
    },
    {
      "cell_type": "code",
      "metadata": {
        "id": "dPb6NsCFem9S"
      },
      "source": [
        "Leia um nome e verifique se a primeira letra do nome está com letra maiúscula\n"
      ],
      "execution_count": null,
      "outputs": []
    },
    {
      "cell_type": "code",
      "metadata": {
        "id": "_hftFtw5eoA6"
      },
      "source": [
        "Faça um programa em que troque todas as ocorrências de uma letra L1 pela letra L2 em ˆ uma string. A string e as letras L1 e L2 devem ser fornecidas pelo usuario.\n"
      ],
      "execution_count": null,
      "outputs": []
    },
    {
      "cell_type": "code",
      "metadata": {
        "id": "8UvjpbNQeqaE"
      },
      "source": [
        "Faça um programa que receba duas frases distintas e imprima de maneira invertida, trocando as letras A por *.\n"
      ],
      "execution_count": null,
      "outputs": []
    },
    {
      "cell_type": "code",
      "metadata": {
        "colab": {
          "base_uri": "https://localhost:8080/"
        },
        "id": "1lXIVuaPeq9S",
        "outputId": "2ebb9aec-6100-4679-cd55-153fa3d6457a"
      },
      "source": [
        "n1=int(input(\"Digite seu numero: \"))\n",
        "n2= n1%2\n",
        "if n2 == 0 :\n",
        "   print(\"Par\")\n",
        "else :\n",
        "   print(\"impar\")"
      ],
      "execution_count": null,
      "outputs": [
        {
          "output_type": "stream",
          "name": "stdout",
          "text": [
            "Digite seu numero: 5\n",
            "impar\n"
          ]
        }
      ]
    },
    {
      "cell_type": "code",
      "metadata": {
        "colab": {
          "base_uri": "https://localhost:8080/"
        },
        "id": "Sv-wYbFLe1Sx",
        "outputId": "4d4f8712-d49f-4a0c-c478-c34d84274452"
      },
      "source": [
        "n1=int(input(\"Digite seu numero: \"))\n",
        "n2=int(input(\"Digite seu numero: \"))\n",
        "if n1 < n2 :\n",
        "  print(n2)\n",
        "else :\n",
        "  print(n1)"
      ],
      "execution_count": null,
      "outputs": [
        {
          "output_type": "stream",
          "name": "stdout",
          "text": [
            "Digite seu numero: 11\n",
            "Digite seu numero: 5\n",
            "11\n"
          ]
        }
      ]
    },
    {
      "cell_type": "code",
      "metadata": {
        "id": "OBz2dP9ep9p0"
      },
      "source": [
        "Um posto está vendendo combustíveis com a seguinte tabela de descontos: \n",
        "\n",
        "Álcool:\n",
        " - até 20 litros, desconto de 3% por litro \n",
        " - acima de 20 litros, desconto de 5% por litro\n",
        "Gasolina:\n",
        " - até 20 litros, desconto de 4% por litro\n",
        " - acima de 20 litros, desconto de 6% por litro\n",
        "Escreva um algoritmo que leia o número de litros vendidos e o tipo de combustível (codificado da\n",
        "seguinte forma: A-álcool, G-gasolina), calcule e imprima o valor a ser pago pelo cliente sabendo-se\n",
        "que o preço do litro da gasolina é R$ 6,10 e o preço do litro do álcool é R$ 5,20."
      ],
      "execution_count": null,
      "outputs": []
    },
    {
      "cell_type": "code",
      "metadata": {
        "colab": {
          "base_uri": "https://localhost:8080/"
        },
        "id": "j4QZiYxdrCxs",
        "outputId": "4e467313-30bc-437e-bf0b-61b123b2cac9"
      },
      "source": [
        "\n",
        "g=6.10\n",
        "a=5.2\n",
        "c=(input(\"qual combustivel? A-álcool, G-gasolina \")).strip().lower()\n",
        "if c not in \"alcool\" or \"gasolina\" :\n",
        "  c=(input(\"Por favor, insira corretamente [alcool] ou [gasolina] \")).strip().lower()\n",
        "\n",
        "if c == \"alcool\":\n",
        "  n=float(input(\"Quantos litros de alcool deseja? \"))\n",
        "  if n <= 20 :\n",
        "    des=n-(n*0.03)\n",
        "    p=des*a\n",
        "  else :\n",
        "    des=n-n*0.05\n",
        "    p=des*a\n",
        "\n",
        "else :\n",
        "  n=float(input(\"Quantos litros de gasolina deseja? \"))\n",
        "  if n <= 20:\n",
        "    des=n-(n*0.04)\n",
        "    p=des*g\n",
        "  else :\n",
        "    des=n-(n*0.06)\n",
        "    p=des*g\n",
        "\n",
        "print(\"Foi vendido\",n,\" litros do combustivel \",c, \"pelo valor de: \",p)\n"
      ],
      "execution_count": null,
      "outputs": [
        {
          "output_type": "stream",
          "name": "stdout",
          "text": [
            "qual combustivel? A-álcool, G-gasolina gasolina\n",
            "Por favor, insira corretamente [alcool] ou [gasolina] gasolina\n",
            "Quantos litros de gasolina deseja? 50\n",
            "Foi vendido 50.0  litros do combustivel  gasolina pelo valor de:  286.7\n"
          ]
        }
      ]
    },
    {
      "cell_type": "code",
      "metadata": {
        "id": "H2Y9p2wT-xAQ"
      },
      "source": [
        "7 Elabore um algoritmo que calcule o que deve ser pago por um produto,\n",
        " considerando o preço normal deetiqueta e a escolha da condição de pagamento. \n",
        "Utilize os códigos da tabela a seguir para ler qual acondição de pagamento\n",
        "escolhida e efetuar o cálculo adequado.\n",
        "Código Condição de pagamento\n",
        "1 À vista em dinheiro ou cheque, recebe 10% de desconto\n",
        "2 À vista no cartão de crédito, recebe 15% de desconto\n",
        "3 Em duas vezes, preço normal de etiqueta sem juros\n",
        "4 Em duas vezes, preço normal de etiqueta mais juros de 10%\n"
      ],
      "execution_count": null,
      "outputs": []
    },
    {
      "cell_type": "code",
      "metadata": {
        "colab": {
          "base_uri": "https://localhost:8080/"
        },
        "id": "wFt5qZx8_e5o",
        "outputId": "b556ea45-1ba8-4a63-9faa-990f245616eb"
      },
      "source": [
        "p=float(input(\"Qual valor do produto?\"))\n",
        "i=str(input(\"Digite a forma de pagamento [a vista ],[cheque],[credito],[2x],[2xj]\")).strip().lower()\n",
        "\n",
        "if i == \"vista\" or i == \"cheque\":\n",
        "  d=p-p*0.1\n",
        "  print(d)\n",
        "elif i == \"credito\":\n",
        "  d=p-p*0.15\n",
        "  print(d)\n",
        "elif i == \"2x\":\n",
        "  print(d)\n",
        "else:\n",
        "  d=p*1.1\n",
        "  print(d)\n"
      ],
      "execution_count": null,
      "outputs": [
        {
          "output_type": "stream",
          "name": "stdout",
          "text": [
            "Qual valor do produto?10\n",
            "Digite a forma de pagamento [a vista ],[cheque],[credito],[2x],[2xj]2xj\n",
            "11.0\n"
          ]
        }
      ]
    },
    {
      "cell_type": "code",
      "metadata": {
        "id": "HEqhuJJ8sHzx"
      },
      "source": [
        "\n",
        "8) Escreva um algoritmo que leia o número de identificação, \n",
        "as 3 notas obtidas por um aluno nas 3 verificações e a média dos exercícios\n",
        "que fazem parte da avaliação, e calcule a média de aproveitamento, \n",
        "usando a fórmula:\n",
        "MA := (nota1 + nota 2 * 2 + nota 3 * 3 + ME)/7\n",
        "\n",
        "A atribuição dos conceitos obedece a tabela abaixo. \n",
        "O algoritmo deve escrever o número do aluno, suas notas, a média dos exercícios,\n",
        "a média de aproveitamento, o conceito correspondente e a mensagem \n",
        "'Aprovado' se o conceito for A, B ou C, e 'Reprovado' se o conceito for D ou E.\n",
        "\n",
        "Média de aproveitamento Conceito\n",
        "\n",
        ">= 90 A\n",
        ">= 75 e < 90 B\n",
        ">= 60 e < 75 C\n",
        ">= 40 e < 60 D\n",
        "< 40 E \n"
      ],
      "execution_count": null,
      "outputs": []
    },
    {
      "cell_type": "code",
      "metadata": {
        "colab": {
          "base_uri": "https://localhost:8080/"
        },
        "id": "90YnjkSzJpJK",
        "outputId": "060b5d5e-7896-49dd-f7aa-d4a8c52b0bb7"
      },
      "source": [
        "id=input(\"sua indentificação é: \")\n",
        "n1=int(input(\"Digite primeira nota\"))\n",
        "n2=int(input(\"Digite 2º nota\"))\n",
        "n3=int(input(\"Digite 3º nota\"))\n",
        "med=(n1+n2+n3)/3\n",
        "ma= (n1+(n2*2)+(n3*3)+med)/7\n",
        "if med >= 9:\n",
        " print (\"A ID do aluno é \", id, \" suas notas foram: \", n1 , n2 , n3, \"|| Sua média foi de :\",med, \"|| Seu aproveitamento foi de: \",ma,\" ||seu conceito é A e ele foi aprovado\")\n",
        "elif med < 9 and med >=7.5:\n",
        "  print (\"A ID do aluno é \", id, \" suas notas foram: \", n1 , n2 , n3, \"|| Sua média foi de :\",med, \"|| Seu aproveitamento foi de: \",ma,\" ||seu conceito é B e ele foi aprovado\")\n",
        "elif med >= 6 and med < 7.5 :\n",
        "  print (\"A ID do aluno é \", id, \" suas notas foram: \", n1 , n2 , n3, \"|| Sua média foi de :\",med, \"|| Seu aproveitamento foi de: \",ma,\" ||seu conceito é C e ele foi aprovado\")\n",
        "elif med >= 4 and med < 6 :\n",
        "  print (\"A ID do aluno é \", id, \" suas notas foram: \", n1 , n2 , n3, \"|| Sua média foi de :\",med, \"|| Seu aproveitamento foi de: \",ma,\" ||seu conceito é D e ele foi reprovado\")\n",
        "else:\n",
        "  print (\"A ID do aluno é \", id, \" suas notas foram: \", n1 , n2 , n3, \"|| Sua média foi de :\",med, \"|| Seu aproveitamento foi de: \",ma,\" ||seu conceito é E e ele foi reprovado3\")"
      ],
      "execution_count": null,
      "outputs": [
        {
          "output_type": "stream",
          "name": "stdout",
          "text": [
            "sua indentificação é: 5154\n",
            "Digite primeira nota3\n",
            "Digite 2º nota3\n",
            "Digite 3º nota3\n",
            "A ID do aluno é  5154  suas notas foram:  3 3 3 || Sua média foi de : 3.0 || Seu aproveitamento foi de:  3.0  ||seu conceito é E e ele foi reprovado3\n"
          ]
        }
      ]
    }
  ]
}