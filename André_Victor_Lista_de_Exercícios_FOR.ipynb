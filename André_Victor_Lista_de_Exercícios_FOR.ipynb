{
  "nbformat": 4,
  "nbformat_minor": 0,
  "metadata": {
    "colab": {
      "name": "André Victor_Lista de Exercícios - FOR",
      "provenance": [],
      "authorship_tag": "ABX9TyO8I0QU8UdnljKe4wyzdllG",
      "include_colab_link": true
    },
    "kernelspec": {
      "name": "python3",
      "display_name": "Python 3"
    },
    "language_info": {
      "name": "python"
    }
  },
  "cells": [
    {
      "cell_type": "markdown",
      "metadata": {
        "id": "view-in-github",
        "colab_type": "text"
      },
      "source": [
        "<a href=\"https://colab.research.google.com/github/andrevictorm/ESTUDO/blob/main/Andr%C3%A9_Victor_Lista_de_Exerc%C3%ADcios_FOR.ipynb\" target=\"_parent\"><img src=\"https://colab.research.google.com/assets/colab-badge.svg\" alt=\"Open In Colab\"/></a>"
      ]
    },
    {
      "cell_type": "code",
      "metadata": {
        "id": "fWzmilDocq74"
      },
      "source": [
        "1) Crie um programa em Python que escreva na tela os números de 250 a 120 em ordem decrescente.\n"
      ],
      "execution_count": null,
      "outputs": []
    },
    {
      "cell_type": "code",
      "metadata": {
        "id": "ffGPAmaUdOaL"
      },
      "source": [
        "for j in range(250, 119,-1):\n",
        "  print(j)"
      ],
      "execution_count": null,
      "outputs": []
    },
    {
      "cell_type": "code",
      "metadata": {
        "id": "wItjJftad3BU"
      },
      "source": [
        "2) Em uma turma há 10 alunos. Cada aluno tem 2 notas. \n",
        "Um professor precisa calcular a média das duas notas de cada aluno. \n",
        "Crie um programa que resolva este problema.\n"
      ],
      "execution_count": null,
      "outputs": []
    },
    {
      "cell_type": "code",
      "metadata": {
        "id": "uqIHnko2d-uz",
        "colab": {
          "base_uri": "https://localhost:8080/"
        },
        "outputId": "260be44d-c466-4321-bf6d-9b9e92f241b3"
      },
      "source": [
        "for j in range(10):\n",
        "  n1=int(input(\"Digite a primeira nota: \"))\n",
        "  while n1 < 0 or n1 >10 :\n",
        "    n1=int(input(\"Digite a primeira nota: \"))\n",
        "  n2=int(input(\"Digite a segunda nota: \"))\n",
        "  while n2 < 0 or n2 >10 :\n",
        "    n2=int(input(\"Digite a primeira nota: \"))\n",
        "  m=(n2+n1)/2\n",
        "  print(m)"
      ],
      "execution_count": null,
      "outputs": [
        {
          "output_type": "stream",
          "name": "stdout",
          "text": [
            "Digite a primeira nota: 4\n",
            "Digite a segunda nota: 5\n",
            "4.5\n",
            "Digite a primeira nota: 2\n",
            "Digite a segunda nota: 3\n",
            "2.5\n",
            "Digite a primeira nota: 6\n",
            "Digite a segunda nota: 4\n",
            "5.0\n",
            "Digite a primeira nota: 5\n",
            "Digite a segunda nota: 2\n",
            "3.5\n",
            "Digite a primeira nota: 1\n",
            "Digite a segunda nota: 5\n",
            "3.0\n",
            "Digite a primeira nota: 6\n",
            "Digite a segunda nota: 4\n",
            "5.0\n",
            "Digite a primeira nota: 8\n",
            "Digite a segunda nota: 9\n",
            "8.5\n",
            "Digite a primeira nota: 7\n",
            "Digite a segunda nota: 5\n",
            "6.0\n",
            "Digite a primeira nota: 6\n",
            "Digite a segunda nota: 4\n",
            "5.0\n",
            "Digite a primeira nota: 2\n",
            "Digite a segunda nota: 2\n",
            "2.0\n"
          ]
        }
      ]
    },
    {
      "cell_type": "code",
      "metadata": {
        "id": "-A9Sw2KiebXD"
      },
      "source": [
        "3) Utilizando a estrutura de repetição for, faça um programa em Python\n",
        " que receba 10 números e conte quantos deles estão no intervalo [10,20] e \n",
        " quantos deles estão fora do intervalo, escrevendo estas informações.\n"
      ],
      "execution_count": null,
      "outputs": []
    },
    {
      "cell_type": "code",
      "metadata": {
        "id": "dgG61IexgAqM"
      },
      "source": [
        "c=0\n",
        "f=0\n",
        "for j in range(10):\n",
        "  n1=int(input(\"Digite um numero: \"))\n",
        "  if n1 >= 10 and n1 <= 20:\n",
        "    c=c+1\n",
        "  else:\n",
        "    f=f+1\n",
        "print(\"Total de nº entre 10 e 20 é: \",c)\n",
        "print(\"Total de nº fora do intervalo é: \",f)"
      ],
      "execution_count": null,
      "outputs": []
    },
    {
      "cell_type": "code",
      "metadata": {
        "id": "aP8MDYQFgAjr"
      },
      "source": [
        "4) Escreva um programa que leia um valor correspondente ao número de jogadores\n",
        " de um time de vôlei. O programa deverá ler uma altura para cada um dos jogadores \n",
        " e, ao final, informar a altura média do time.\n"
      ],
      "execution_count": null,
      "outputs": []
    },
    {
      "cell_type": "code",
      "metadata": {
        "colab": {
          "base_uri": "https://localhost:8080/"
        },
        "id": "BoliXdkxiC3b",
        "outputId": "127df1d2-c91d-42f5-ee13-d773e4a4e1c7"
      },
      "source": [
        "max=0\n",
        "for j in range(6):\n",
        "  a=float(input(\"Digite Altura do jogador em cm: \"))\n",
        "  max=max+a\n",
        "print(round(max/6))"
      ],
      "execution_count": null,
      "outputs": [
        {
          "output_type": "stream",
          "name": "stdout",
          "text": [
            "Digite Altura do jogador: 4\n",
            "Digite Altura do jogador: 5\n",
            "Digite Altura do jogador: 6\n",
            "Digite Altura do jogador: 4\n",
            "Digite Altura do jogador: 5\n",
            "Digite Altura do jogador: 3\n",
            "4\n"
          ]
        }
      ]
    },
    {
      "cell_type": "code",
      "metadata": {
        "id": "4QTxwzNJj4ZE"
      },
      "source": [
        "5) Crie um programa em Python que leia N números (N digitado pelo usuário) e \n",
        "mostre na tela a soma e a média de todos os números lidos.\n"
      ],
      "execution_count": null,
      "outputs": []
    },
    {
      "cell_type": "code",
      "metadata": {
        "colab": {
          "base_uri": "https://localhost:8080/"
        },
        "id": "9B-q2etdj6N7",
        "outputId": "c73cb5a9-7472-43bf-b952-9c615f020569"
      },
      "source": [
        "n=(int(input(\"Digite um nº: \")))\n",
        "s=0\n",
        "for j in range(n+1):\n",
        "  s=j+s\n",
        "med=s/n\n",
        "print(\"A soma de todos os nº é de: \",s)\n",
        "print(\"A média de todos os nº somados é de: \",med)"
      ],
      "execution_count": null,
      "outputs": [
        {
          "output_type": "stream",
          "name": "stdout",
          "text": [
            "Digite um nº: 3\n",
            "A soma de todos os nº é de:  3\n",
            "A média de todos os nº somados é de:  1.0\n"
          ]
        }
      ]
    },
    {
      "cell_type": "code",
      "metadata": {
        "id": "VmY3St5JmTSl"
      },
      "source": [
        "6) Escreva um programa que mostre todos os números entre 5 e 100 que são divisíveis por 7, \n",
        "mas não são múltiplos de 5. Os números obtidos devem ser impressos em sequência.\n"
      ],
      "execution_count": null,
      "outputs": []
    },
    {
      "cell_type": "code",
      "metadata": {
        "id": "XvSa1rFymast"
      },
      "source": [
        "for j in range(5,100):\n",
        "  if j%7 == 0 and j%5 != 0:\n",
        "    print(j)"
      ],
      "execution_count": null,
      "outputs": []
    },
    {
      "cell_type": "code",
      "metadata": {
        "id": "7Ghfc81znjBt"
      },
      "source": [
        "7) Faça um programa que receba um número positivo digitado pelo usuário \n",
        "e calcule a soma de todos os números de 1 até ao número digitado. \n",
        "Por exemplo, se o usuário inseriu 4, a saída deve ser 10 (1+2+3+4=10).\n"
      ],
      "execution_count": null,
      "outputs": []
    },
    {
      "cell_type": "code",
      "metadata": {
        "colab": {
          "base_uri": "https://localhost:8080/"
        },
        "id": "4IF0ifjwo9QN",
        "outputId": "efcd3713-55a8-430a-8620-3dcc09e1b905"
      },
      "source": [
        "n=int(input(\"digite um nº : \"))\n",
        "while n <= 0:\n",
        "  n=int(input(\"digite um nº: \"))\n",
        "s=0\n",
        "for j in range(n+1):\n",
        "  s=j+s\n",
        "print(\"A soma de todos os nº é de: \",s)"
      ],
      "execution_count": null,
      "outputs": [
        {
          "output_type": "stream",
          "name": "stdout",
          "text": [
            "digite um nº : 4\n",
            "A soma de todos os nº é de:  10\n"
          ]
        }
      ]
    },
    {
      "cell_type": "code",
      "metadata": {
        "id": "dbpH58IHq-T2"
      },
      "source": [
        "\n",
        "8) Escreva um programa em Python para encontrar o fatorial de qualquer número.\n",
        "FAT 5 = 5 x 4 x 3 x 2 x 1 = 120"
      ],
      "execution_count": null,
      "outputs": []
    },
    {
      "cell_type": "code",
      "metadata": {
        "colab": {
          "base_uri": "https://localhost:8080/"
        },
        "id": "9VfMboL2rjtN",
        "outputId": "d8d1e3f5-7150-4964-d93f-b87bb397d504"
      },
      "source": [
        "n=int(input(\"digite um nº : \"))\n",
        "s=1\n",
        "for j in range(n,1,-1):\n",
        "  s=j*s\n",
        "print(\"O fatorial do nº é: \",s)"
      ],
      "execution_count": null,
      "outputs": [
        {
          "output_type": "stream",
          "name": "stdout",
          "text": [
            "digite um nº : 0\n",
            "O fatorial do nº é:  1\n"
          ]
        }
      ]
    },
    {
      "cell_type": "code",
      "metadata": {
        "id": "jjYzBPyUsa--"
      },
      "source": [
        "9) Escreva um programa em Python que leia um número inteiro positivo \n",
        "e diga se o número informado é primo.\n"
      ],
      "execution_count": null,
      "outputs": []
    },
    {
      "cell_type": "code",
      "metadata": {
        "colab": {
          "base_uri": "https://localhost:8080/"
        },
        "id": "GTOx2EYWsgrN",
        "outputId": "01792a7c-28bc-4b2b-9e97-4dc9f8f4307e"
      },
      "source": [
        "n = int(input(\"Digite um numero: \"))\n",
        "m=0\n",
        "\n",
        "for j in range(1,n+1):\n",
        "    if (n % j == 0):\n",
        "        m= m+ 1\n",
        "\n",
        "if (m==0):\n",
        "    print(\"É primo\")\n",
        "else:\n",
        "    print(\"Não é primo\")"
      ],
      "execution_count": null,
      "outputs": [
        {
          "output_type": "stream",
          "name": "stdout",
          "text": [
            "Digite um numero: 1\n",
            "Não é primo\n"
          ]
        }
      ]
    },
    {
      "cell_type": "code",
      "metadata": {
        "id": "2-iNOMmxvv8u"
      },
      "source": [
        "10) Digitados dois números (base e expoente ), \n",
        "calcule o resultado  da potência utilizando apenas operadores básicos da matemática\n",
        "(soma, subtração, multiplicação ou divisão) e o comando FOR;\n"
      ],
      "execution_count": null,
      "outputs": []
    },
    {
      "cell_type": "code",
      "metadata": {
        "id": "7MJD8DPYv4to"
      },
      "source": [
        "b=int(input(\"digite a base : \"))\n",
        "ex=int(input(\"digite o expoente : \"))\n",
        "s=1\n",
        "for j in range(ex):\n",
        "  s=s*b\n",
        "print(\"Resultado: \",s)"
      ],
      "execution_count": null,
      "outputs": []
    }
  ]
}