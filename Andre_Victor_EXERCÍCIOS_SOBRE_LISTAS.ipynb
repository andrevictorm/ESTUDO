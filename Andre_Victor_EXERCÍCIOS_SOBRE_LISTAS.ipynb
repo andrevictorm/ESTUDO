{
  "nbformat": 4,
  "nbformat_minor": 0,
  "metadata": {
    "colab": {
      "name": "Andre_Victor_EXERCÍCIOS SOBRE LISTAS",
      "provenance": [],
      "authorship_tag": "ABX9TyMR+zaDu/LHg3N14/QXCOc9",
      "include_colab_link": true
    },
    "kernelspec": {
      "name": "python3",
      "display_name": "Python 3"
    },
    "language_info": {
      "name": "python"
    }
  },
  "cells": [
    {
      "cell_type": "markdown",
      "metadata": {
        "id": "view-in-github",
        "colab_type": "text"
      },
      "source": [
        "<a href=\"https://colab.research.google.com/github/andrevictorm/ESTUDO/blob/main/Andre_Victor_EXERC%C3%8DCIOS_SOBRE_LISTAS.ipynb\" target=\"_parent\"><img src=\"https://colab.research.google.com/assets/colab-badge.svg\" alt=\"Open In Colab\"/></a>"
      ]
    },
    {
      "cell_type": "code",
      "metadata": {
        "id": "8T5-d4bOiaQQ"
      },
      "source": [
        "1) Faça um Programa que leia uma lista de 5 números inteiros e mostre-os.\n"
      ],
      "execution_count": null,
      "outputs": []
    },
    {
      "cell_type": "code",
      "metadata": {
        "colab": {
          "base_uri": "https://localhost:8080/"
        },
        "id": "uL2qPCwbjH0Z",
        "outputId": "2170534f-5fea-431a-cf84-b7cd4486c177"
      },
      "source": [
        "n=[]\n",
        "for j in range(5):\n",
        "  n.append(int(input(\"Digite um nº: \")))\n",
        "print(n)"
      ],
      "execution_count": null,
      "outputs": [
        {
          "output_type": "stream",
          "name": "stdout",
          "text": [
            "Digite um nº: 6\n",
            "Digite um nº: 5\n",
            "Digite um nº: 4\n",
            "Digite um nº: 10\n",
            "Digite um nº: 85\n",
            "[6, 5, 4, 10, 85]\n"
          ]
        }
      ]
    },
    {
      "cell_type": "code",
      "metadata": {
        "id": "gWSBglZZlEtI"
      },
      "source": [
        "2) Faça um Programa que leia uma lista de 10 números reais e mostre-os na ordem inversa.\n"
      ],
      "execution_count": null,
      "outputs": []
    },
    {
      "cell_type": "code",
      "metadata": {
        "colab": {
          "base_uri": "https://localhost:8080/"
        },
        "id": "D1c0zHYrlFaw",
        "outputId": "363a165e-2821-4cbc-8b3a-89de6d4dad15"
      },
      "source": [
        "n=[]\n",
        "for j in range(10):\n",
        "  n.append(int(input(\"Digite um nº: \")))\n",
        "n.reverse()\n",
        "print(n)"
      ],
      "execution_count": null,
      "outputs": [
        {
          "output_type": "stream",
          "name": "stdout",
          "text": [
            "Digite um nº: 2\n",
            "Digite um nº: 1\n",
            "[1, 2]\n"
          ]
        }
      ]
    },
    {
      "cell_type": "code",
      "metadata": {
        "id": "bWd_y95vl8uQ"
      },
      "source": [
        "3) Faça um Programa que leia 4 notas de alunos e armazene-as dentro de uma lista. \n",
        "Em seguida mostre as notas e a média das notas na tela.\n"
      ],
      "execution_count": null,
      "outputs": []
    },
    {
      "cell_type": "code",
      "metadata": {
        "colab": {
          "base_uri": "https://localhost:8080/"
        },
        "id": "zPIemifQmNso",
        "outputId": "32eaef83-d47b-47d4-9fb4-27f29b044ead"
      },
      "source": [
        "n=[]\n",
        "x=0\n",
        "for j in range(4):\n",
        "  n.append(float(input(\"Digite a nota: \")))\n",
        "  x=n[j]+x\n",
        "med=x/4\n",
        "print(\"A média é de:,\" med,n)"
      ],
      "execution_count": null,
      "outputs": [
        {
          "output_type": "stream",
          "name": "stdout",
          "text": [
            "Digite um nº: 10\n",
            "Digite um nº: 10\n",
            "Digite um nº: 5\n",
            "Digite um nº: 5\n",
            "7.5 [10, 10, 5, 5]\n"
          ]
        }
      ]
    },
    {
      "cell_type": "code",
      "metadata": {
        "id": "cGQtdC2bnCLJ"
      },
      "source": [
        "4) Faça um Programa que leia 20 números inteiros e armazene-os numa lista. \n",
        "Em seguida, crie mais 2 listas, uma para armazenar os números pares e \n",
        "outra para armazenar os números impares. Ao final, Imprima as três listas.\n"
      ],
      "execution_count": null,
      "outputs": []
    },
    {
      "cell_type": "code",
      "metadata": {
        "colab": {
          "base_uri": "https://localhost:8080/"
        },
        "id": "Eeh0MS7AnEN4",
        "outputId": "a07b6cc3-db0f-460f-9f86-4c27923f371c"
      },
      "source": [
        "n=[]\n",
        "i=[]\n",
        "p=[]\n",
        "for j in range(20):\n",
        "  n.append(int(input(\"Digite um nº: \")))\n",
        "  if n[j]%2==0:\n",
        "    p.append(n[j])\n",
        "  else:\n",
        "    i.append(n[j])\n",
        "\n",
        "print(\"Todos os nº: \",n)\n",
        "print(\"Todos os nº par: \",p)\n",
        "print(\"Todos os nº impares: \",i)"
      ],
      "execution_count": null,
      "outputs": [
        {
          "output_type": "stream",
          "name": "stdout",
          "text": [
            "Digite um nº: 4\n",
            "Digite um nº: 5\n",
            "Digite um nº: 6\n",
            "Digite um nº: 4\n",
            "Todos os nº:  [4, 5, 6, 4]\n",
            "Todos os nº par:  [4, 6, 4]\n",
            "Todos os nº impares:  [5]\n"
          ]
        }
      ]
    },
    {
      "cell_type": "code",
      "metadata": {
        "id": "KH_xzvZtoTXZ"
      },
      "source": [
        "5) Faça um Programa que peça as quatro notas de 10 alunos junto com o seu nome. \n",
        " Calcule e armazene numa lista a média de cada aluno, \n",
        " bem como em outra lista armazene o nome do aluno.\n",
        "  Ao final imprima o número de alunos com média maior ou igual a 7.0 junto com o seu nome.\n"
      ],
      "execution_count": null,
      "outputs": []
    },
    {
      "cell_type": "code",
      "metadata": {
        "colab": {
          "base_uri": "https://localhost:8080/"
        },
        "id": "e-c6HQ8NowGx",
        "outputId": "82bb0cc0-cded-4289-8551-c2cc21b3896d"
      },
      "source": [
        "n=[]\n",
        "name=[]\n",
        "med=[]\n",
        "x=0\n",
        "for j in range(10): #nome\n",
        "  name.append(str(input(\"Digite o nome do aluno: \")))\n",
        "\n",
        "  for i in range(4): #notaprova\n",
        "    n.append(float(input(\"Digite a nota: \")))\n",
        "    x=n[i]+x #media\n",
        "\n",
        "  med.append(x/4)\n",
        "  n.clear()\n",
        "  x=0\n",
        "\n",
        "for k in range(10):\n",
        "  if med[k] >= 7:\n",
        "    print(name[k],med[k],\" Aprovado\")\n",
        "  else:\n",
        "    print(name[k],med[k],\" Reprovado\")\n",
        "\n",
        "\n",
        "\n"
      ],
      "execution_count": null,
      "outputs": [
        {
          "output_type": "stream",
          "name": "stdout",
          "text": [
            "Digite o nome do aluno: asd\n",
            "Digite a nota: 4\n",
            "Digite a nota: 5\n",
            "Digite a nota: 6\n",
            "Digite a nota: 7\n",
            "Digite o nome do aluno: qwe\n",
            "Digite a nota: 8\n",
            "Digite a nota: 9\n",
            "Digite a nota: 7\n",
            "Digite a nota: 6\n",
            "asd 5.5  Reprovado\n",
            "qwe 7.5  Aprovado\n"
          ]
        }
      ]
    },
    {
      "cell_type": "code",
      "metadata": {
        "id": "m_DUIrb7xabj"
      },
      "source": [
        "6) Faça um Programa que leia uma lista de 5 números inteiros. \n",
        "Após, percorra a lista e calcule a soma e a multiplicação dos números.  \n",
        "Ao final, mostre os números lidos, a soma dos números e a multiplicação entre eles.\n"
      ],
      "execution_count": null,
      "outputs": []
    },
    {
      "cell_type": "code",
      "metadata": {
        "colab": {
          "base_uri": "https://localhost:8080/"
        },
        "id": "ed5L5RHgyHU7",
        "outputId": "7c78eb57-c0c6-4ad5-edfa-5a4f5afa3a88"
      },
      "source": [
        "n=[]\n",
        "x=0\n",
        "y=1\n",
        "for j in range(5):\n",
        "  n.append(int(input(\"Digite um numero: \")))\n",
        "  x=n[j]+x\n",
        "  y=n[j]*y\n",
        "\n",
        "print(\"Os numeros listados são: \",n, \" Sua soma é: \",x, \" E sua multiplicação é: \",y)"
      ],
      "execution_count": null,
      "outputs": [
        {
          "output_type": "stream",
          "name": "stdout",
          "text": [
            "Digite a nota: 1\n",
            "Digite a nota: 2\n",
            "Digite a nota: 3\n",
            "Digite a nota: 4\n",
            "Digite a nota: 5\n",
            "Os numeros listados são:  [1, 2, 3, 4, 5]  Sua soma é:  15  E sua multiplicação é:  120\n"
          ]
        }
      ]
    },
    {
      "cell_type": "code",
      "metadata": {
        "id": "BSX6i4kmzDfr"
      },
      "source": [
        "7) Faça um Programa que leia uma lista A com 10 números inteiros, \n",
        "calcule e mostre a soma dos quadrados dos elementos da lista.\n"
      ],
      "execution_count": null,
      "outputs": []
    },
    {
      "cell_type": "code",
      "metadata": {
        "colab": {
          "base_uri": "https://localhost:8080/"
        },
        "id": "mUua69d_zl0j",
        "outputId": "9658f02e-ff6c-460d-c859-39589b6c50d8"
      },
      "source": [
        "n=[]\n",
        "qua=[]\n",
        "x=0\n",
        "y=0\n",
        "for j in range(2):\n",
        "  n.append(float(input(\"Digite a nota: \")))\n",
        "  y=n[j]**2\n",
        "  qua.append(y)\n",
        "  x=x+y\n",
        "\n",
        "print(\"Os numeros listados são: \",n,\" O quadrado de cada nº é: \",qua, \" e sua soma é: \",x)"
      ],
      "execution_count": null,
      "outputs": [
        {
          "output_type": "stream",
          "name": "stdout",
          "text": [
            "Digite a nota: 5\n",
            "Digite a nota: 2\n",
            "Os numeros listados são:  [5, 2]  O quadrado de cada nº é:  [25, 4]  e sua soma é:  29\n"
          ]
        }
      ]
    },
    {
      "cell_type": "code",
      "metadata": {
        "id": "NwCbU5dt0-Kb"
      },
      "source": [
        "8) Faça um programa que leia o nome, a idade e a altura de 10 alunos da SoulCode. \n",
        "Em seguida determine quantos alunos com mais de 13 anos possuem altura inferior à média de altura desses alunos.\n"
      ],
      "execution_count": null,
      "outputs": []
    },
    {
      "cell_type": "code",
      "metadata": {
        "colab": {
          "base_uri": "https://localhost:8080/"
        },
        "id": "_1g4pWih1sNb",
        "outputId": "550cc130-b810-4181-9d23-f2b564624d20"
      },
      "source": [
        "name=[]\n",
        "id=[]\n",
        "alt=[]\n",
        "x=0\n",
        "inf=0\n",
        "for j in range(10): #dados\n",
        "  name.append(str(input(\"Digite o nome do aluno: \")))\n",
        "  id.append(int(input(\"Digite a idade: \")))\n",
        "  alt.append(int(input(\"Digite a altura (Em cm): \")))\n",
        "\n",
        "  x=alt[j]+x #media\n",
        "\n",
        "med=(x/10)\n",
        "\n",
        "for i in range (10):\n",
        "  if id[i] >= 13 and alt[i] <= med:\n",
        "    inf=inf+1\n",
        "\n",
        "print(\"A quantidade de alunos com altura abaixo da média é de :\",inf,\" e a média é de: \",med\"cm\")\n",
        "\n",
        "\n",
        "\n",
        "\n"
      ],
      "execution_count": null,
      "outputs": [
        {
          "output_type": "stream",
          "name": "stdout",
          "text": [
            "Digite o nome do aluno: And\n",
            "Digite a idade: 21\n",
            "Digite a altura: 190\n",
            "Digite o nome do aluno: Clara\n",
            "Digite a idade: 13\n",
            "Digite a altura: 150\n",
            "Digite o nome do aluno: pe\n",
            "Digite a idade: 12\n",
            "Digite a altura: 170\n",
            "A quantidade de alunos com altura abaixo da média é de : 1  e a média é de:  170.0\n"
          ]
        }
      ]
    },
    {
      "cell_type": "code",
      "metadata": {
        "id": "sH2sffF42aZD"
      },
      "source": [
        ""
      ],
      "execution_count": null,
      "outputs": []
    }
  ]
}