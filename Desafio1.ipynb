{
  "nbformat": 4,
  "nbformat_minor": 0,
  "metadata": {
    "colab": {
      "name": "Desafio1.ipynb",
      "provenance": [],
      "authorship_tag": "ABX9TyMZA8aoXb3dC6i6XnsSJ1Bg",
      "include_colab_link": true
    },
    "kernelspec": {
      "name": "python3",
      "display_name": "Python 3"
    },
    "language_info": {
      "name": "python"
    }
  },
  "cells": [
    {
      "cell_type": "markdown",
      "metadata": {
        "id": "view-in-github",
        "colab_type": "text"
      },
      "source": [
        "<a href=\"https://colab.research.google.com/github/andrevictorm/ESTUDO/blob/main/Desafio1.ipynb\" target=\"_parent\"><img src=\"https://colab.research.google.com/assets/colab-badge.svg\" alt=\"Open In Colab\"/></a>"
      ]
    },
    {
      "cell_type": "code",
      "metadata": {
        "id": "ekB6BbVMxYmK"
      },
      "source": [
        "1) criar um programa para inserir um valor em reais de um produto, entra o valor \n",
        "do imposto em porcentagem , e mostrar quanto sairá o valor do total do produto e\n",
        "quanto sairá o valor do imposto"
      ],
      "execution_count": null,
      "outputs": []
    },
    {
      "cell_type": "code",
      "metadata": {
        "colab": {
          "base_uri": "https://localhost:8080/"
        },
        "id": "qOYdgnEBzI4R",
        "outputId": "e790c718-86f2-47ec-9a9f-52c5507615f7"
      },
      "source": [
        "rp= float(input(\"Digite o valor em reais do Produto: \"))\n",
        "i= float(input(\"Valor do imposto em %: \"))\n",
        "i=(i/100)\n",
        "print(\"Valor total do produto é: \", rp*(i+1), \" | E o valor do imposto pago é de: \", rp*i )"
      ],
      "execution_count": null,
      "outputs": [
        {
          "output_type": "stream",
          "name": "stdout",
          "text": [
            "Digite o valor em reais do Produto: 100\n",
            "Valor do imposto em %: 20\n",
            "Valor total do produto é:  120.0  | E o valor do imposto pago é de:  20.0\n"
          ]
        }
      ]
    },
    {
      "cell_type": "code",
      "metadata": {
        "id": "Yr3U4CzKaJhz"
      },
      "source": [
        "Crie um programa que leia um número inteiro de 3 dígitos e inverta esse número. \n",
        "Ao final, exiba o resultado na tela\n",
        "Ex: usuário digita 514\n",
        "O resultado a ser exibido é 415\n",
        "Usuário digita 123\n",
        "O resultado a ser exibido é 321"
      ],
      "execution_count": null,
      "outputs": []
    },
    {
      "cell_type": "code",
      "metadata": {
        "colab": {
          "base_uri": "https://localhost:8080/"
        },
        "id": "S0aCZZNtaLu6",
        "outputId": "94e6cc91-724c-4331-86ab-1bb99da0841f"
      },
      "source": [
        "n1= int(input(\"Digite o nº: \"))\n",
        "n2= int(input(\"Digite o nº: \"))\n",
        "n3= int(input(\"Digite o nº: \"))\n",
        "print(n3,n2,n1)"
      ],
      "execution_count": null,
      "outputs": [
        {
          "output_type": "stream",
          "name": "stdout",
          "text": [
            "Digite o nº: 1\n",
            "Digite o nº: 2\n",
            "Digite o nº: 3\n",
            "3 2 1\n"
          ]
        }
      ]
    }
  ]
}